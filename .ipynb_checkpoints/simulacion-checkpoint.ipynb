{
 "cells": [
  {
   "cell_type": "code",
   "execution_count": 1,
   "metadata": {},
   "outputs": [],
   "source": [
    "\n",
    "col_names=['IB_avg',\n",
    "'FE_SAWDUST_RATIO',\n",
    "'FE_THIRD_COMPRESION',\n",
    "'FE_PRESSURE_14_15']\n",
    "\n",
    "col_names1=[\n",
    "'FE_SAWDUST_RATIO',\n",
    "'FE_THIRD_COMPRESION',\n",
    "'FE_PRESSURE_14_15']"
   ]
  },
  {
   "cell_type": "code",
   "execution_count": 2,
   "metadata": {},
   "outputs": [
    {
     "name": "stderr",
     "output_type": "stream",
     "text": [
      "C:\\ProgramData\\Anaconda3\\lib\\site-packages\\ipykernel_launcher.py:22: SettingWithCopyWarning: \n",
      "A value is trying to be set on a copy of a slice from a DataFrame.\n",
      "Try using .loc[row_indexer,col_indexer] = value instead\n",
      "\n",
      "See the caveats in the documentation: http://pandas.pydata.org/pandas-docs/stable/user_guide/indexing.html#returning-a-view-versus-a-copy\n"
     ]
    }
   ],
   "source": [
    "import pandas as pd\n",
    "import numpy as np\n",
    "import math\n",
    "import xgboost as xgb\n",
    "import plotly.graph_objects as go\n",
    "from sklearn.model_selection import train_test_split\n",
    "import dash\n",
    "import dash_core_components as dcc\n",
    "import dash_html_components as html\n",
    "import dash_daq as daq\n",
    "from dash.dependencies import Input, Output\n",
    "from sklearn.ensemble import RandomForestRegressor\n",
    "from sklearn.linear_model import Ridge\n",
    "\n",
    "df = pd.read_csv('exam1.csv', sep=',')\n",
    "\n",
    "#df1 = pd.DataFrame(df_0, columns=col_names)\n",
    "df1 = df[col_names]\n",
    "\n",
    "# We change the most important features ranges to make them look like actual figures\n",
    "\n",
    "\n",
    "df2 = df1.fillna(method='ffill').astype(np.float32)\n",
    "X_train, X_test, y_train, y_test = train_test_split(df2.drop(\"IB_avg\", axis=1), df2[\"IB_avg\"], test_size=0.33, random_state=7)\n",
    "\n"
   ]
  },
  {
   "cell_type": "code",
   "execution_count": 4,
   "metadata": {},
   "outputs": [
    {
     "name": "stderr",
     "output_type": "stream",
     "text": [
      "C:\\ProgramData\\Anaconda3\\lib\\site-packages\\sklearn\\ensemble\\forest.py:245: FutureWarning:\n",
      "\n",
      "The default value of n_estimators will change from 10 in version 0.20 to 100 in 0.22.\n",
      "\n"
     ]
    }
   ],
   "source": [
    "#model = Ridge(alpha=0.01)\n",
    "#model = xgb.XGBRegressor()\n",
    "model = RandomForestRegressor()\n",
    "\n",
    "model.fit(X_train, y_train)\n",
    "\n",
    "df_feature_importances = pd.DataFrame(model.feature_importances_*100,columns=[\"Importance\"],index=col_names)\n",
    "df_feature_importances = df_feature_importances.sort_values(\"Importance\", ascending=False)"
   ]
  },
  {
   "cell_type": "code",
   "execution_count": 5,
   "metadata": {},
   "outputs": [],
   "source": [
    "\n",
    "fig_features_importance = go.Figure()\n",
    "fig_features_importance.add_trace(go.Bar(x=df_feature_importances.index,\n",
    "                                         y=df_feature_importances[\"Importance\"],\n",
    "                                         marker_color='rgb(171, 226, 251)')\n",
    "                                 )\n",
    "fig_features_importance.update_layout(title_text='<b>Features Importance of the model<b>', title_x=0.5)\n",
    "\n",
    "slider_1_label = df_feature_importances.index[0]\n",
    "slider_1_min = math.floor( df2[slider_1_label].min())\n",
    "slider_1_mean = round( df2[slider_1_label].mean())\n",
    "slider_1_max = round(df2[slider_1_label].max())\n",
    "\n",
    "slider_2_label = df_feature_importances.index[1]\n",
    "slider_2_min = math.floor( df2[slider_2_label].min())\n",
    "slider_2_mean = round( df2[slider_2_label].mean())\n",
    "slider_2_max = round( df2[slider_2_label].max())\n",
    "\n",
    "slider_3_label = df_feature_importances.index[2]\n",
    "slider_3_min = math.floor( df2[slider_3_label].min())\n",
    "slider_3_mean = round( df2[slider_3_label].mean())\n",
    "slider_3_max = round( df2[slider_3_label].max())"
   ]
  },
  {
   "cell_type": "code",
   "execution_count": 8,
   "metadata": {},
   "outputs": [
    {
     "ename": "AttributeError",
     "evalue": "'int' object has no attribute 'dtypes'",
     "output_type": "error",
     "traceback": [
      "\u001b[1;31m---------------------------------------------------------------------------\u001b[0m",
      "\u001b[1;31mAttributeError\u001b[0m                            Traceback (most recent call last)",
      "\u001b[1;32m<ipython-input-8-3c0db57fdc68>\u001b[0m in \u001b[0;36m<module>\u001b[1;34m\u001b[0m\n\u001b[1;32m----> 1\u001b[1;33m \u001b[0mslider_1_min\u001b[0m\u001b[1;33m.\u001b[0m\u001b[0mdtypes\u001b[0m\u001b[1;33m(\u001b[0m\u001b[1;33m)\u001b[0m\u001b[1;33m\u001b[0m\u001b[1;33m\u001b[0m\u001b[0m\n\u001b[0m",
      "\u001b[1;31mAttributeError\u001b[0m: 'int' object has no attribute 'dtypes'"
     ]
    }
   ],
   "source": [
    "slider_1_min.dtypes()"
   ]
  },
  {
   "cell_type": "code",
   "execution_count": 7,
   "metadata": {},
   "outputs": [],
   "source": [
    "\n",
    "\n",
    "app = dash.Dash()\n",
    "\n",
    "app.layout = html.Div(style={'textAlign': 'center', 'width': '800px', 'font-family': 'Verdana'},\n",
    "                      \n",
    "                    children=[\n",
    "\n",
    "                        \n",
    "                        html.H1(children=\"Simulation TEST\"),\n",
    "                        \n",
    "                        \n",
    "                        dcc.Graph(figure=fig_features_importance),\n",
    "                        \n",
    "                        \n",
    "                        html.H4(children=slider_1_label),\n",
    "\n",
    "                        \n",
    "                        dcc.Slider(\n",
    "                            id='X1_slider',\n",
    "                            min=slider_1_min,\n",
    "                            max=slider_1_max,\n",
    "                            step=0.5,\n",
    "                            value=slider_1_mean,\n",
    "                            marks={i: '{} '.format(i) for i in range(slider_1_min, slider_1_max+1)}\n",
    "                            ),\n",
    "\n",
    "                       \n",
    "                        html.H4(children=slider_2_label),\n",
    "\n",
    "                        dcc.Slider(\n",
    "                            id='X2_slider',\n",
    "                            min=slider_2_min,\n",
    "                            max=slider_2_max,\n",
    "                            step=0.5,\n",
    "                            value=slider_2_mean,\n",
    "                            marks={i: '{} '.format(i) for i in range(slider_2_min, slider_2_max+1)}\n",
    "                        ),\n",
    "\n",
    "                        html.H4(children=slider_3_label),\n",
    "\n",
    "                        dcc.Slider(\n",
    "                            id='X3_slider',\n",
    "                            min=slider_3_min,\n",
    "                            max=slider_3_max,\n",
    "                            step=0.1,\n",
    "                            value=slider_3_mean,\n",
    "                            marks={i: '{}'.format(i) for i in np.linspace(slider_3_min, slider_3_max,1+(slider_3_max-slider_3_min)*5)},\n",
    "                        ),\n",
    "                        \n",
    "                        \n",
    "                        html.H2(id=\"prediction_result\"),\n",
    "\n",
    "                    ])"
   ]
  },
  {
   "cell_type": "code",
   "execution_count": null,
   "metadata": {},
   "outputs": [
    {
     "name": "stdout",
     "output_type": "stream",
     "text": [
      " * Serving Flask app \"__main__\" (lazy loading)\n",
      " * Environment: production\n",
      "   WARNING: This is a development server. Do not use it in a production deployment.\n",
      "   Use a production WSGI server instead.\n",
      " * Debug mode: off\n"
     ]
    },
    {
     "name": "stderr",
     "output_type": "stream",
     "text": [
      " * Running on http://127.0.0.1:8077/ (Press CTRL+C to quit)\n",
      "127.0.0.1 - - [08/Jun/2020 19:16:55] \"GET / HTTP/1.1\" 200 -\n",
      "127.0.0.1 - - [08/Jun/2020 19:16:55] \"GET /_dash-component-suites/dash_renderer/prop-types@15.v1_4_1m1588706252.7.2.min.js HTTP/1.1\" 200 -\n",
      "127.0.0.1 - - [08/Jun/2020 19:16:55] \"GET /_dash-component-suites/dash_renderer/react@16.v1_4_1m1588706252.13.0.min.js HTTP/1.1\" 200 -\n",
      "127.0.0.1 - - [08/Jun/2020 19:16:55] \"GET /_dash-component-suites/dash_core_components/dash_core_components.v1_10_0m1588718564.min.js HTTP/1.1\" 200 -\n",
      "127.0.0.1 - - [08/Jun/2020 19:16:55] \"GET /_dash-component-suites/dash_core_components/dash_core_components-shared.v1_10_0m1588718564.js HTTP/1.1\" 200 -\n",
      "127.0.0.1 - - [08/Jun/2020 19:16:55] \"GET /_dash-component-suites/dash_renderer/polyfill@7.v1_4_1m1588706252.8.7.min.js HTTP/1.1\" 200 -\n",
      "127.0.0.1 - - [08/Jun/2020 19:16:55] \"GET /_dash-component-suites/dash_renderer/react-dom@16.v1_4_1m1588706252.13.0.min.js HTTP/1.1\" 200 -\n",
      "127.0.0.1 - - [08/Jun/2020 19:16:55] \"GET /_dash-component-suites/dash_daq/dash_daq.v0_5_0m1591374466.min.js HTTP/1.1\" 200 -\n",
      "127.0.0.1 - - [08/Jun/2020 19:16:56] \"GET /_dash-component-suites/dash_html_components/dash_html_components.v1_0_3m1585840840.min.js HTTP/1.1\" 200 -\n",
      "127.0.0.1 - - [08/Jun/2020 19:16:56] \"GET /_dash-component-suites/dash_renderer/dash_renderer.v1_4_1m1588706252.min.js HTTP/1.1\" 200 -\n",
      "127.0.0.1 - - [08/Jun/2020 19:16:56] \"GET /_dash-dependencies HTTP/1.1\" 200 -\n",
      "127.0.0.1 - - [08/Jun/2020 19:16:56] \"GET /_dash-layout HTTP/1.1\" 200 -\n",
      "127.0.0.1 - - [08/Jun/2020 19:16:56] \"POST /_dash-update-component HTTP/1.1\" 200 -\n",
      "127.0.0.1 - - [08/Jun/2020 19:16:56] \"GET /_dash-component-suites/dash_core_components/async-graph.v1_10_0m1588696753.js HTTP/1.1\" 200 -\n",
      "127.0.0.1 - - [08/Jun/2020 19:16:56] \"GET /_dash-component-suites/dash_core_components/async-slider.v1_10_0m1588696753.js HTTP/1.1\" 200 -\n",
      "127.0.0.1 - - [08/Jun/2020 19:16:56] \"GET /_dash-component-suites/dash_core_components/async-plotlyjs.v1_10_0m1588696753.js HTTP/1.1\" 200 -\n"
     ]
    }
   ],
   "source": [
    "\n",
    "@app.callback(Output(component_id=\"prediction_result\",component_property=\"children\"),\n",
    "\n",
    "              [Input(\"X1_slider\",\"value\"), Input(\"X2_slider\",\"value\"), Input(\"X3_slider\",\"value\")])\n",
    "\n",
    "\n",
    "def update_prediction(X1, X2, X3):\n",
    "\n",
    "    \n",
    "    input_X = np.array([X1,\n",
    "                       X2,\n",
    "                       X3\n",
    "                      ]).reshape(1,-1)        \n",
    "    \n",
    "    \n",
    "    prediction = model.predict(input_X)[0]\n",
    "    \n",
    "    # And retuned to the Output of the callback function\n",
    "    return \"Prediccion: {}\".format(round(prediction,2))\n",
    "\n",
    "if __name__ == \"__main__\":\n",
    "    #app.run_server()\n",
    "    app.run_server( port=8077)\n",
    "    \n",
    "    "
   ]
  },
  {
   "cell_type": "code",
   "execution_count": null,
   "metadata": {},
   "outputs": [],
   "source": []
  }
 ],
 "metadata": {
  "kernelspec": {
   "display_name": "Python 3",
   "language": "python",
   "name": "python3"
  },
  "language_info": {
   "codemirror_mode": {
    "name": "ipython",
    "version": 3
   },
   "file_extension": ".py",
   "mimetype": "text/x-python",
   "name": "python",
   "nbconvert_exporter": "python",
   "pygments_lexer": "ipython3",
   "version": "3.7.4"
  }
 },
 "nbformat": 4,
 "nbformat_minor": 2
}
